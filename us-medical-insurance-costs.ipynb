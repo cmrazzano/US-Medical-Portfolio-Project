{
 "cells": [
  {
   "cell_type": "markdown",
   "metadata": {},
   "source": [
    "# U.S. Medical Insurance Costs"
   ]
  },
  {
   "cell_type": "code",
   "execution_count": null,
   "metadata": {},
   "outputs": [],
   "source": [
    "#PROJECT OBJECTIVES:\n",
    "\n",
    "# Analyze a dataset by building out functions or class methods\n",
    "# Use libraries to assist in your analysis\n",
    "# Optional: Document and organize your findings\n",
    "# Optional: Make predictions about a dataset’s features based on your findings"
   ]
  },
  {
   "cell_type": "code",
   "execution_count": 9,
   "metadata": {},
   "outputs": [],
   "source": [
    "import csv\n",
    "import pandas as pd\n",
    "\n",
    "with open('insurance.csv') as csv_file:\n",
    "    insurance_data = csv.reader(csv_file)"
   ]
  },
  {
   "cell_type": "code",
   "execution_count": 11,
   "metadata": {},
   "outputs": [
    {
     "name": "stdout",
     "output_type": "stream",
     "text": [
      "      age     sex     bmi  children smoker     region      charges\n",
      "0      19  female  27.900         0    yes  southwest  16884.92400\n",
      "1      18    male  33.770         1     no  southeast   1725.55230\n",
      "2      28    male  33.000         3     no  southeast   4449.46200\n",
      "3      33    male  22.705         0     no  northwest  21984.47061\n",
      "4      32    male  28.880         0     no  northwest   3866.85520\n",
      "...   ...     ...     ...       ...    ...        ...          ...\n",
      "1333   50    male  30.970         3     no  northwest  10600.54830\n",
      "1334   18  female  31.920         0     no  northeast   2205.98080\n",
      "1335   18  female  36.850         0     no  southeast   1629.83350\n",
      "1336   21  female  25.800         0     no  southwest   2007.94500\n",
      "1337   61  female  29.070         0    yes  northwest  29141.36030\n",
      "\n",
      "[1338 rows x 7 columns]\n"
     ]
    }
   ],
   "source": [
    "df = pd.read_csv('insurance.csv')\n",
    "print(df)"
   ]
  },
  {
   "cell_type": "markdown",
   "metadata": {},
   "source": [
    "Transfer data from CSV into a List:"
   ]
  },
  {
   "cell_type": "code",
   "execution_count": 16,
   "metadata": {},
   "outputs": [
    {
     "name": "stdout",
     "output_type": "stream",
     "text": [
      "['southwest', 'southeast', 'northwest', 'northeast']\n"
     ]
    }
   ],
   "source": [
    "insurance_data = []\n",
    "\n",
    "with open('insurance.csv') as csv_file:\n",
    "    insurance_reader = csv.DictReader(csv_file, delimiter = \",\")\n",
    "    for i in insurance_reader:\n",
    "        insurance_data.append(i)\n",
    "\n",
    "unique_regions = []\n",
    "for person in insurance_data:\n",
    "    if person[\"region\"] not in unique_regions:\n",
    "        unique_regions.append(person[\"region\"])\n",
    "\n",
    "print(unique_regions)"
   ]
  },
  {
   "cell_type": "markdown",
   "metadata": {},
   "source": [
    "Male / Female Patient Breakdown"
   ]
  },
  {
   "cell_type": "code",
   "execution_count": 42,
   "metadata": {},
   "outputs": [
    {
     "name": "stdout",
     "output_type": "stream",
     "text": [
      "There are 1338 total patients in the dataset.\n",
      "The total number of male patients is 676 (51.0% of total.\n",
      "The total number of female patients is 662 (49.0% of total.\n",
      "None\n"
     ]
    }
   ],
   "source": [
    "def sex_count(insurance_data):\n",
    "\n",
    "    male_patients = 0\n",
    "    female_patients = 0\n",
    "\n",
    "    for person in insurance_data:\n",
    "        if person['sex'] == 'female':\n",
    "            female_patients += 1\n",
    "        if person['sex'] == 'male':\n",
    "            male_patients += 1\n",
    "   \n",
    "    total_patients = male_patients + female_patients\n",
    "    pct_male = round(male_patients / total_patients * 100, 0)\n",
    "    pct_female = round(female_patients / total_patients * 100, 0)\n",
    "\n",
    "    print('There are ' + str(total_patients) + ' total patients in the dataset.')\n",
    "    print('The total number of male patients is ' + str(male_patients) + ' (' + str(pct_male) + '% of total.')\n",
    "    print('The total number of female patients is ' + str(female_patients) + ' (' + str(pct_female) + '% of total.')\n",
    "\n",
    "print(sex_count(insurance_data))"
   ]
  },
  {
   "cell_type": "markdown",
   "metadata": {},
   "source": [
    "Average Age of the Patients"
   ]
  },
  {
   "cell_type": "code",
   "execution_count": 47,
   "metadata": {},
   "outputs": [
    {
     "name": "stdout",
     "output_type": "stream",
     "text": [
      "The average age of the patients surveyed is 39.2.\n",
      "None\n"
     ]
    }
   ],
   "source": [
    "def average_age(insurance_data):\n",
    "\n",
    "    total_age = 0\n",
    "    total_patients = 0\n",
    "\n",
    "    for person in insurance_data:\n",
    "        total_age += int(person['age'])\n",
    "        total_patients += 1\n",
    "\n",
    "    average_age = round(total_age / total_patients, 1)\n",
    "\n",
    "    print('The average age of the patients surveyed is ' + str(average_age) + '.')\n",
    "\n",
    "print(average_age(insurance_data))\n",
    "    "
   ]
  },
  {
   "cell_type": "markdown",
   "metadata": {},
   "source": [
    "Regional Breakdown of Patients"
   ]
  },
  {
   "cell_type": "code",
   "execution_count": 57,
   "metadata": {},
   "outputs": [
    {
     "name": "stdout",
     "output_type": "stream",
     "text": [
      "Southwest: 325 (24% of total)\n",
      "Southeast: 364 (27% of total)\n",
      "Northwest: 325 (24% of total)\n",
      "Northeast: 324 (24% of total)\n",
      "None\n"
     ]
    }
   ],
   "source": [
    "def regional_breakdown(insurance_data):\n",
    "   \n",
    "    southwest = 0\n",
    "    southeast = 0\n",
    "    northwest = 0\n",
    "    northeast = 0\n",
    "        \n",
    "    for person in insurance_data:\n",
    "        if person['region'] == 'southwest':\n",
    "            southwest += 1\n",
    "        if person['region'] == 'southeast':\n",
    "            southeast += 1\n",
    "        if person['region'] == 'northwest':\n",
    "            northwest += 1\n",
    "        if person['region'] == 'northeast':\n",
    "            northeast += 1\n",
    "\n",
    "    total = southwest + southeast + northwest + northeast\n",
    "    if total > 0:\n",
    "        print('Southwest: ' + str(southwest) + ' (' + str(round((southwest / total) * 100)) + '% of total)')\n",
    "        print('Southeast: ' + str(southeast) + ' (' + str(round((southeast / total) * 100)) + '% of total)')\n",
    "        print('Northwest: ' + str(northwest) + ' (' + str(round((northwest / total) * 100)) + '% of total)')\n",
    "        print('Northeast: ' + str(northeast) + ' (' + str(round((northeast / total) * 100)) + '% of total)')\n",
    "\n",
    "print(regional_breakdown(insurance_data))"
   ]
  },
  {
   "cell_type": "markdown",
   "metadata": {},
   "source": [
    "Costs Between Smokers & Non-Smokers"
   ]
  },
  {
   "cell_type": "code",
   "execution_count": 66,
   "metadata": {},
   "outputs": [
    {
     "name": "stdout",
     "output_type": "stream",
     "text": [
      "Avg. Smoker Insurance Cost: $32050.0\n",
      "Avg. Nonsmoker Insurance Cost: $8434.0\n",
      "None\n"
     ]
    }
   ],
   "source": [
    "def smoker_insurance_cost(insurance_data):\n",
    "\n",
    "    total_smoker_charges = 0 \n",
    "    total_smokers = 0\n",
    "    total_nonsmoker_charges = 0\n",
    "    total_nonsmokers = 0\n",
    "\n",
    "    for person in insurance_data:\n",
    "        if person['smoker'] == 'yes':\n",
    "            total_smoker_charges += float(person['charges'])\n",
    "            total_smokers += 1\n",
    "        else:\n",
    "            total_nonsmoker_charges += float(person['charges'])\n",
    "            total_nonsmokers += 1\n",
    "\n",
    "    average_smoker_charge = round((total_smoker_charges / total_smokers), 0)\n",
    "    average_nonsmoker_charge = round((total_nonsmoker_charges / total_nonsmokers), 0)\n",
    "\n",
    "    print('Avg. Smoker Insurance Cost: $' + str(average_smoker_charge))\n",
    "    print('Avg. Nonsmoker Insurance Cost: $' + str(average_nonsmoker_charge))\n",
    "\n",
    "print(smoker_insurance_cost(insurance_data))\n",
    "    "
   ]
  },
  {
   "cell_type": "code",
   "execution_count": 85,
   "metadata": {},
   "outputs": [
    {
     "name": "stdout",
     "output_type": "stream",
     "text": [
      "There are 159 male smokers in the dataset, with an average insurnace cost of $33042.0.\n",
      "There are 115 female smokers in the dataset, with an average insurnace cost of $30679.0.\n"
     ]
    }
   ],
   "source": [
    "def smoker_by_sex(insurance_data):\n",
    "\n",
    "    total_male_smokers = 0\n",
    "    male_smoker_insurance = 0\n",
    "    total_female_smokers = 0\n",
    "    female_smoker_insurance = 0\n",
    "\n",
    "    for person in insurance_data:\n",
    "        if person['sex'] == 'male' and person['smoker'] == 'yes':\n",
    "            total_male_smokers += 1\n",
    "            male_smoker_insurance += float(person['charges'])\n",
    "        if person['sex'] == 'female' and person['smoker'] == 'yes':\n",
    "            total_female_smokers += 1\n",
    "            female_smoker_insurance += float(person['charges'])\n",
    "\n",
    "    avg_male_smoker_ins = round(male_smoker_insurance / total_male_smokers, 0)\n",
    "    avg_female_smoker_ins = round(female_smoker_insurance / total_female_smokers, 0)\n",
    "\n",
    "    print('There are ' + str(total_male_smokers) + ' male smokers in the dataset, with an average insurnace cost of $' + str(avg_male_smoker_ins) + '.')\n",
    "    print('There are ' + str(total_female_smokers) + ' female smokers in the dataset, with an average insurnace cost of $' + str(avg_female_smoker_ins) + '.')\n",
    "\n",
    "smoker_by_sex(insurance_data)\n",
    "    "
   ]
  },
  {
   "cell_type": "code",
   "execution_count": 87,
   "metadata": {},
   "outputs": [
    {
     "name": "stdout",
     "output_type": "stream",
     "text": [
      "There are 325 patients in the SW Region; 6.0% are smokers.\n",
      "There are 364 patients in the SE Region; 4.0% are smokers.\n",
      "There are 325 patients in the NW Region; 6.0% are smokers.\n",
      "There are 324 patients in the NE Region; 5.0% are smokers.\n",
      "274 patients are smokers.\n"
     ]
    }
   ],
   "source": [
    "# where are smokers most prevalent?\n",
    "\n",
    "def smoker_by_region(insurance_data):\n",
    "\n",
    "    sw_patients = 0\n",
    "    se_patients = 0\n",
    "    nw_patients = 0\n",
    "    ne_patients = 0\n",
    "\n",
    "    for person in insurance_data:\n",
    "        if person['region'] == 'southwest':\n",
    "            sw_patients += 1\n",
    "        if person['region'] == 'southeast':\n",
    "            se_patients += 1\n",
    "        if person['region'] == 'northwest':\n",
    "            nw_patients += 1\n",
    "        if person['region'] == 'northeast':\n",
    "            ne_patients += 1\n",
    "        \n",
    "    sw_smokers = 0\n",
    "    se_smokers = 0\n",
    "    nw_smokers = 0\n",
    "    ne_smokers = 0\n",
    "\n",
    "    for person in insurance_data:\n",
    "        if person['smoker'] == 'yes' and person['region'] == 'southwest':\n",
    "            sw_smokers += 1\n",
    "        if person['smoker'] == 'yes' and person['region'] == 'southeast':\n",
    "            se_smokers += 1\n",
    "        if person['smoker'] == 'yes' and person['region'] == 'northwest':\n",
    "            nw_smokers += 1\n",
    "        if person['smoker'] == 'yes' and person['region'] == 'northeast':\n",
    "            ne_smokers += 1\n",
    "\n",
    "    sw_smoker_pct = round(sw_patients / sw_smokers, 0)\n",
    "    se_smoker_pct = round(se_patients / se_smokers, 0)\n",
    "    nw_smoker_pct = round(nw_patients / nw_smokers, 0)\n",
    "    ne_smoker_pct = round(ne_patients / ne_smokers, 0)\n",
    "\n",
    "    print('There are ' + str(sw_patients) + ' patients in the SW Region; ' + str(sw_smoker_pct) + '% are smokers.')\n",
    "    print('There are ' + str(se_patients) + ' patients in the SE Region; ' + str(se_smoker_pct) + '% are smokers.')\n",
    "    print('There are ' + str(nw_patients) + ' patients in the NW Region; ' + str(nw_smoker_pct) + '% are smokers.')\n",
    "    print('There are ' + str(ne_patients) + ' patients in the NE Region; ' + str(ne_smoker_pct) + '% are smokers.')\n",
    "    print(str(sw_smokers + se_smokers + nw_smokers + ne_smokers) + ' patients are smokers.')\n",
    "smoker_by_region(insurance_data)\n"
   ]
  },
  {
   "cell_type": "code",
   "execution_count": null,
   "metadata": {},
   "outputs": [],
   "source": []
  },
  {
   "cell_type": "markdown",
   "metadata": {},
   "source": [
    "Figure out the Average Age for somone with one child in the dataset:"
   ]
  },
  {
   "cell_type": "code",
   "execution_count": 73,
   "metadata": {},
   "outputs": [
    {
     "name": "stdout",
     "output_type": "stream",
     "text": [
      "Avg. parent age: 40.0\n"
     ]
    }
   ],
   "source": [
    "def avg_parent_age(insurance_data):\n",
    "\n",
    "    total_parent_age = 0\n",
    "    parent_count = 0\n",
    "\n",
    "    for person in insurance_data:\n",
    "        if int(person['children']) > 0:\n",
    "            total_parent_age += int(person['age'])\n",
    "            parent_count += 1\n",
    "        \n",
    "    if parent_count > 0:\n",
    "        avg_parent_age = round(total_parent_age / parent_count, 0)\n",
    "        return avg_parent_age\n",
    "    else:\n",
    "        return \"No parent data available\"\n",
    "        \n",
    "print('Avg. parent age: ' + str(avg_parent_age(insurance_data)))\n",
    "    "
   ]
  },
  {
   "cell_type": "code",
   "execution_count": 77,
   "metadata": {},
   "outputs": [
    {
     "name": "stdout",
     "output_type": "stream",
     "text": [
      "(0, 324, 240, 157, 43)\n"
     ]
    }
   ],
   "source": [
    "def children_histogram(insurance_data):\n",
    "\n",
    "    children0 = 0\n",
    "    children1 = 0\n",
    "    children2 = 0\n",
    "    children3 = 0\n",
    "    children4 = 0\n",
    "\n",
    "    for person in insurance_data:\n",
    "        if int(person['children']) == 0:\n",
    "            children0 += 0\n",
    "        if int(person['children']) == 1:\n",
    "            children1 += 1\n",
    "        if int(person['children']) == 2:\n",
    "            children2 += 1\n",
    "        if int(person['children']) == 3:\n",
    "            children3 += 1\n",
    "        if int(person['children']) >= 4:\n",
    "            children4 += 1\n",
    " \n",
    "\n",
    "    return children0, children1, children2, children3, children4\n",
    "\n",
    "print(children_histogram(insurance_data))\n",
    "    \n",
    "\n",
    "    "
   ]
  }
 ],
 "metadata": {
  "kernelspec": {
   "display_name": "Python 3 (ipykernel)",
   "language": "python",
   "name": "python3"
  },
  "language_info": {
   "codemirror_mode": {
    "name": "ipython",
    "version": 3
   },
   "file_extension": ".py",
   "mimetype": "text/x-python",
   "name": "python",
   "nbconvert_exporter": "python",
   "pygments_lexer": "ipython3",
   "version": "3.11.5"
  }
 },
 "nbformat": 4,
 "nbformat_minor": 4
}
